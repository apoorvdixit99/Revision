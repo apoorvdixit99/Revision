{
 "cells": [
  {
   "cell_type": "markdown",
   "metadata": {},
   "source": [
    "# Pytorch+CUDA Setup and basic playground"
   ]
  },
  {
   "cell_type": "code",
   "execution_count": 1,
   "metadata": {},
   "outputs": [],
   "source": [
    "# Install Pytorch with CUDA\n",
    "\n",
    "!pip install torch torchvision torchaudio --extra-index-url https://download.pytorch.org/whl/cu124\n"
   ]
  },
  {
   "cell_type": "code",
   "execution_count": 2,
   "metadata": {},
   "outputs": [
    {
     "name": "stdout",
     "output_type": "stream",
     "text": [
      "2.5.1+cu124\n",
      "12.4\n",
      "True\n",
      "['sm_50', 'sm_60', 'sm_61', 'sm_70', 'sm_75', 'sm_80', 'sm_86', 'sm_90']\n"
     ]
    }
   ],
   "source": [
    "# Check Pytorch and CUDA versions\n",
    "\n",
    "import torch\n",
    "print(torch.__version__)\n",
    "print(torch.version.cuda)\n",
    "print(torch.cuda.is_available())\n",
    "print(torch.cuda.get_arch_list())"
   ]
  },
  {
   "cell_type": "code",
   "execution_count": 3,
   "metadata": {},
   "outputs": [
    {
     "name": "stdout",
     "output_type": "stream",
     "text": [
      "tensor([1, 2, 3])\n",
      "tensor([[0.8042, 0.8935, 0.9075],\n",
      "        [0.7240, 0.8360, 0.2140],\n",
      "        [0.2623, 0.9995, 0.0457]])\n"
     ]
    }
   ],
   "source": [
    "# Playing with Tensors\n",
    "\n",
    "# Create a tensor\n",
    "x = torch.tensor([1, 2, 3])\n",
    "print(x)\n",
    "\n",
    "# Create a random tensor\n",
    "random_tensor = torch.rand(3, 3)\n",
    "print(random_tensor)\n",
    "\n",
    "# Move tensor to GPU (if available)\n",
    "device = torch.device(\"cuda\" if torch.cuda.is_available() else \"cpu\")\n",
    "x = x.to(device)\n"
   ]
  },
  {
   "cell_type": "markdown",
   "metadata": {},
   "source": [
    "# Simple Neural Network for MNIST"
   ]
  },
  {
   "cell_type": "code",
   "execution_count": 4,
   "metadata": {},
   "outputs": [],
   "source": [
    "# Creating a Simple Neural Network\n",
    "\n",
    "import torch.nn as nn\n",
    "\n",
    "class SimpleNN(nn.Module):\n",
    "    def __init__(self):\n",
    "        super(SimpleNN, self).__init__()\n",
    "        self.fc1 = nn.Linear(784, 128)\n",
    "        self.fc2 = nn.Linear(128, 64)\n",
    "        self.fc3 = nn.Linear(64, 10)\n",
    "        self.relu = nn.ReLU()\n",
    "\n",
    "    def forward(self, x):\n",
    "        x = self.relu(self.fc1(x))\n",
    "        x = self.relu(self.fc2(x))\n",
    "        x = self.fc3(x)\n",
    "        return x\n",
    "\n",
    "model = SimpleNN()\n"
   ]
  },
  {
   "cell_type": "code",
   "execution_count": 5,
   "metadata": {},
   "outputs": [],
   "source": [
    "# Preparing Data (DataLoader)\n",
    "\n",
    "from torchvision import datasets, transforms\n",
    "from torch.utils.data import DataLoader\n",
    "\n",
    "transform = transforms.Compose([transforms.ToTensor(), transforms.Normalize((0.5,), (0.5,))])\n",
    "\n",
    "train_dataset = datasets.MNIST(root='./data', train=True, download=True, transform=transform)\n",
    "train_loader = DataLoader(train_dataset, batch_size=64, shuffle=True)\n"
   ]
  },
  {
   "cell_type": "code",
   "execution_count": 7,
   "metadata": {},
   "outputs": [
    {
     "name": "stdout",
     "output_type": "stream",
     "text": [
      "Epoch 1/5, Batch 0/938, Loss: 2.3150\n",
      "Epoch 1/5, Batch 100/938, Loss: 0.5943\n",
      "Epoch 1/5, Batch 200/938, Loss: 0.5443\n",
      "Epoch 1/5, Batch 300/938, Loss: 0.3057\n",
      "Epoch 1/5, Batch 400/938, Loss: 0.4579\n",
      "Epoch 1/5, Batch 500/938, Loss: 0.2955\n",
      "Epoch 1/5, Batch 600/938, Loss: 0.3502\n",
      "Epoch 1/5, Batch 700/938, Loss: 0.1585\n",
      "Epoch 1/5, Batch 800/938, Loss: 0.3299\n",
      "Epoch 1/5, Batch 900/938, Loss: 0.2208\n",
      "Epoch 2/5, Batch 0/938, Loss: 0.1555\n",
      "Epoch 2/5, Batch 100/938, Loss: 0.2456\n",
      "Epoch 2/5, Batch 200/938, Loss: 0.3014\n",
      "Epoch 2/5, Batch 300/938, Loss: 0.2958\n",
      "Epoch 2/5, Batch 400/938, Loss: 0.1465\n",
      "Epoch 2/5, Batch 500/938, Loss: 0.2475\n",
      "Epoch 2/5, Batch 600/938, Loss: 0.1831\n",
      "Epoch 2/5, Batch 700/938, Loss: 0.1366\n",
      "Epoch 2/5, Batch 800/938, Loss: 0.2686\n",
      "Epoch 2/5, Batch 900/938, Loss: 0.0826\n",
      "Epoch 3/5, Batch 0/938, Loss: 0.1343\n",
      "Epoch 3/5, Batch 100/938, Loss: 0.1888\n",
      "Epoch 3/5, Batch 200/938, Loss: 0.0379\n",
      "Epoch 3/5, Batch 300/938, Loss: 0.0937\n",
      "Epoch 3/5, Batch 400/938, Loss: 0.0609\n",
      "Epoch 3/5, Batch 500/938, Loss: 0.1904\n",
      "Epoch 3/5, Batch 600/938, Loss: 0.0892\n",
      "Epoch 3/5, Batch 700/938, Loss: 0.1052\n",
      "Epoch 3/5, Batch 800/938, Loss: 0.1114\n",
      "Epoch 3/5, Batch 900/938, Loss: 0.3419\n",
      "Epoch 4/5, Batch 0/938, Loss: 0.2423\n",
      "Epoch 4/5, Batch 100/938, Loss: 0.0509\n",
      "Epoch 4/5, Batch 200/938, Loss: 0.1407\n",
      "Epoch 4/5, Batch 300/938, Loss: 0.0909\n",
      "Epoch 4/5, Batch 400/938, Loss: 0.0174\n",
      "Epoch 4/5, Batch 500/938, Loss: 0.0502\n",
      "Epoch 4/5, Batch 600/938, Loss: 0.1330\n",
      "Epoch 4/5, Batch 700/938, Loss: 0.1281\n",
      "Epoch 4/5, Batch 800/938, Loss: 0.0224\n",
      "Epoch 4/5, Batch 900/938, Loss: 0.0209\n",
      "Epoch 5/5, Batch 0/938, Loss: 0.0997\n",
      "Epoch 5/5, Batch 100/938, Loss: 0.2252\n",
      "Epoch 5/5, Batch 200/938, Loss: 0.0262\n",
      "Epoch 5/5, Batch 300/938, Loss: 0.0870\n",
      "Epoch 5/5, Batch 400/938, Loss: 0.0862\n",
      "Epoch 5/5, Batch 500/938, Loss: 0.1472\n",
      "Epoch 5/5, Batch 600/938, Loss: 0.0132\n",
      "Epoch 5/5, Batch 700/938, Loss: 0.1173\n",
      "Epoch 5/5, Batch 800/938, Loss: 0.0687\n",
      "Epoch 5/5, Batch 900/938, Loss: 0.1412\n"
     ]
    }
   ],
   "source": [
    "# Training the Neural Network\n",
    "\n",
    "import torch.optim as optim\n",
    "\n",
    "criterion = nn.CrossEntropyLoss()\n",
    "optimizer = optim.Adam(model.parameters(), lr=0.001)\n",
    "\n",
    "num_epochs = 5\n",
    "for epoch in range(num_epochs):\n",
    "    for batch_idx, (data, target) in enumerate(train_loader):\n",
    "        optimizer.zero_grad()\n",
    "        output = model(data.view(data.size(0), -1))\n",
    "        loss = criterion(output, target)\n",
    "        loss.backward()\n",
    "        optimizer.step()\n",
    "        \n",
    "        if batch_idx % 100 == 0:\n",
    "            print(f'Epoch {epoch+1}/{num_epochs}, Batch {batch_idx}/{len(train_loader)}, Loss: {loss.item():.4f}')"
   ]
  },
  {
   "cell_type": "code",
   "execution_count": 8,
   "metadata": {},
   "outputs": [
    {
     "name": "stdout",
     "output_type": "stream",
     "text": [
      "Accuracy on test set: 96.74%\n"
     ]
    }
   ],
   "source": [
    "# Evaluating the model on test dataset\n",
    "\n",
    "model.eval()\n",
    "test_dataset = datasets.MNIST(root='./data', train=False, download=True, transform=transform)\n",
    "test_loader = DataLoader(test_dataset, batch_size=1000, shuffle=False)\n",
    "\n",
    "correct = 0\n",
    "total = 0\n",
    "with torch.no_grad():\n",
    "    for data, target in test_loader:\n",
    "        output = model(data.view(data.size(0), -1))\n",
    "        _, predicted = torch.max(output.data, 1)\n",
    "        total += target.size(0)\n",
    "        correct += (predicted == target).sum().item()\n",
    "\n",
    "print(f'Accuracy on test set: {100 * correct / total:.2f}%')"
   ]
  },
  {
   "cell_type": "code",
   "execution_count": 9,
   "metadata": {},
   "outputs": [],
   "source": [
    "# Save the model\n",
    "torch.save(model.state_dict(), 'model.pth')"
   ]
  },
  {
   "cell_type": "code",
   "execution_count": 10,
   "metadata": {},
   "outputs": [
    {
     "name": "stderr",
     "output_type": "stream",
     "text": [
      "C:\\Users\\apoor\\AppData\\Local\\Temp\\ipykernel_23360\\3081489078.py:3: FutureWarning: You are using `torch.load` with `weights_only=False` (the current default value), which uses the default pickle module implicitly. It is possible to construct malicious pickle data which will execute arbitrary code during unpickling (See https://github.com/pytorch/pytorch/blob/main/SECURITY.md#untrusted-models for more details). In a future release, the default value for `weights_only` will be flipped to `True`. This limits the functions that could be executed during unpickling. Arbitrary objects will no longer be allowed to be loaded via this mode unless they are explicitly allowlisted by the user via `torch.serialization.add_safe_globals`. We recommend you start setting `weights_only=True` for any use case where you don't have full control of the loaded file. Please open an issue on GitHub for any issues related to this experimental feature.\n",
      "  loaded_model.load_state_dict(torch.load('model.pth'))\n"
     ]
    },
    {
     "data": {
      "text/plain": [
       "SimpleNN(\n",
       "  (fc1): Linear(in_features=784, out_features=128, bias=True)\n",
       "  (fc2): Linear(in_features=128, out_features=64, bias=True)\n",
       "  (fc3): Linear(in_features=64, out_features=10, bias=True)\n",
       "  (relu): ReLU()\n",
       ")"
      ]
     },
     "execution_count": 10,
     "metadata": {},
     "output_type": "execute_result"
    }
   ],
   "source": [
    "# Load the model\n",
    "loaded_model = SimpleNN()\n",
    "loaded_model.load_state_dict(torch.load('model.pth'))\n",
    "loaded_model.eval()"
   ]
  }
 ],
 "metadata": {
  "kernelspec": {
   "display_name": ".venv",
   "language": "python",
   "name": "python3"
  },
  "language_info": {
   "codemirror_mode": {
    "name": "ipython",
    "version": 3
   },
   "file_extension": ".py",
   "mimetype": "text/x-python",
   "name": "python",
   "nbconvert_exporter": "python",
   "pygments_lexer": "ipython3",
   "version": "3.11.8"
  }
 },
 "nbformat": 4,
 "nbformat_minor": 2
}
