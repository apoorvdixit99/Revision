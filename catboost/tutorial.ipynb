{
 "cells": [
  {
   "cell_type": "markdown",
   "metadata": {},
   "source": [
    "# Part 1 - Install"
   ]
  },
  {
   "cell_type": "code",
   "execution_count": null,
   "metadata": {},
   "outputs": [],
   "source": [
    "!pip install catboost"
   ]
  },
  {
   "cell_type": "code",
   "execution_count": null,
   "metadata": {},
   "outputs": [],
   "source": [
    "!pip install scikit-learn"
   ]
  },
  {
   "cell_type": "markdown",
   "metadata": {},
   "source": [
    "# Part 2 - CatBoost on Iris Dataset"
   ]
  },
  {
   "cell_type": "code",
   "execution_count": 4,
   "metadata": {},
   "outputs": [
    {
     "name": "stdout",
     "output_type": "stream",
     "text": [
      "Accuracy: 1.00\n"
     ]
    }
   ],
   "source": [
    "from catboost import CatBoostClassifier, Pool\n",
    "from sklearn.datasets import load_iris\n",
    "from sklearn.model_selection import train_test_split\n",
    "from sklearn.metrics import accuracy_score\n",
    "\n",
    "# Load the Iris dataset\n",
    "iris = load_iris()\n",
    "X = iris.data\n",
    "y = iris.target\n",
    "\n",
    "# Split the dataset into training and testing sets (80/20 split)\n",
    "X_train, X_test, y_train, y_test = train_test_split(X, y, test_size=0.2, random_state=42)\n",
    "\n",
    "# Create a Pool object for CatBoost (optional but recommended)\n",
    "train_pool = Pool(X_train, y_train)\n",
    "test_pool = Pool(X_test, y_test)\n",
    "\n",
    "# Initialize the CatBoost Classifier\n",
    "model = CatBoostClassifier(iterations=100, learning_rate=0.1, depth=6, loss_function='MultiClass', verbose=0)\n",
    "\n",
    "# Train the model\n",
    "model.fit(train_pool)\n",
    "\n",
    "# Make predictions\n",
    "predictions = model.predict(test_pool)\n",
    "\n",
    "# Evaluate model accuracy\n",
    "accuracy = accuracy_score(y_test, predictions)\n",
    "print(f'Accuracy: {accuracy:.2f}')"
   ]
  },
  {
   "cell_type": "markdown",
   "metadata": {},
   "source": [
    "## What is Pool Object in CatBoost?\n",
    "\n",
    "The Pool object in CatBoost is a specialized data structure designed to efficiently handle datasets for training and evaluation. Here are the key features and functionalities of the Pool object:\n",
    "\n",
    "1. Encapsulation of Data: The Pool object encapsulates the feature data (input features), target labels (for supervised tasks), and metadata about categorical features. This organization helps streamline the training process.\n",
    "2. Support for Categorical Features: CatBoost is particularly effective at handling categorical features without requiring explicit encoding (like one-hot encoding). When you specify categorical features in the Pool, CatBoost automatically manages their conversion into numerical representations during training.\n",
    "3. Memory and Performance Optimization: The Pool object is optimized for memory usage and performance, allowing CatBoost to process data more efficiently during model training. This is especially beneficial when working with large datasets.\n",
    "4. Additional Metadata: Besides features and labels, the Pool can store additional information such as sample weights, group identifiers for ranking tasks, and baseline values, making it versatile for various machine learning tasks.\n",
    "5. Convenience for Data Management: Using a Pool object simplifies data management by keeping related data together. This reduces the risk of misalignment between features and labels when saving or loading datasets.\n"
   ]
  }
 ],
 "metadata": {
  "kernelspec": {
   "display_name": ".venv",
   "language": "python",
   "name": "python3"
  },
  "language_info": {
   "codemirror_mode": {
    "name": "ipython",
    "version": 3
   },
   "file_extension": ".py",
   "mimetype": "text/x-python",
   "name": "python",
   "nbconvert_exporter": "python",
   "pygments_lexer": "ipython3",
   "version": "3.11.8"
  }
 },
 "nbformat": 4,
 "nbformat_minor": 2
}
